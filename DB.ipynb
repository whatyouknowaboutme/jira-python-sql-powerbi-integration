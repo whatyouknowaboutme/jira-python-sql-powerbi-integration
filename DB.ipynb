{
 "cells": [
  {
   "cell_type": "markdown",
   "metadata": {},
   "source": [
    "# DB connections and Associated methods"
   ]
  },
  {
   "cell_type": "code",
   "execution_count": 13,
   "metadata": {
    "scrolled": true
   },
   "outputs": [],
   "source": [
    "import pyodbc \n",
    "#cursor.execute('SELECT * FROM Student')\n",
    "#for row in cursor:\n",
    " #   print('row = %r' % (row,))\n",
    "#sql = \"INSERT INTO Student (StudentID, Name, Country) VALUES (%s, %s, %s)\"\n",
    "#val = (\"2\", \"John\", \"USA\")\n",
    "\n",
    "#cursor.execute('''\n",
    "#INSERT INTO Student (StudentID)\n",
    "#VALUES (3)\n",
    "#''')\n",
    "\n",
    "#cnxn.commit()\n",
    "cnxn = 0\n",
    "cursor = 0\n",
    "def connect():\n",
    "    global cursor, cnxn\n",
    "    cnxn = pyodbc.connect(\"Driver={SQL Server Native Client 11.0};\"\n",
    "                      \"Server=AADAM99A8\\SQLEXPRESS;\"\n",
    "                      \"Database=Jira_DB_V1_1;\"\n",
    "                      \"Trusted_Connection=yes;\")\n",
    "\n",
    "    cursor = cnxn.cursor()\n",
    "\n",
    "connect()\n"
   ]
  },
  {
   "cell_type": "code",
   "execution_count": 14,
   "metadata": {},
   "outputs": [
    {
     "ename": "ProgrammingError",
     "evalue": "('42S02', \"[42S02] [Microsoft][SQL Server Native Client 11.0][SQL Server]Invalid object name 'Student'. (208) (SQLExecDirectW)\")",
     "output_type": "error",
     "traceback": [
      "\u001b[1;31m---------------------------------------------------------------------------\u001b[0m",
      "\u001b[1;31mProgrammingError\u001b[0m                          Traceback (most recent call last)",
      "\u001b[1;32m<ipython-input-14-fcd20eb5fd2b>\u001b[0m in \u001b[0;36m<module>\u001b[1;34m\u001b[0m\n\u001b[0;32m      1\u001b[0m \u001b[0mcursor\u001b[0m \u001b[1;33m=\u001b[0m \u001b[0mcnxn\u001b[0m\u001b[1;33m.\u001b[0m\u001b[0mcursor\u001b[0m\u001b[1;33m(\u001b[0m\u001b[1;33m)\u001b[0m\u001b[1;33m\u001b[0m\u001b[1;33m\u001b[0m\u001b[0m\n\u001b[1;32m----> 2\u001b[1;33m \u001b[0mcursor\u001b[0m\u001b[1;33m.\u001b[0m\u001b[0mexecute\u001b[0m\u001b[1;33m(\u001b[0m\u001b[1;34m'SELECT * FROM Student'\u001b[0m\u001b[1;33m)\u001b[0m\u001b[1;33m\u001b[0m\u001b[1;33m\u001b[0m\u001b[0m\n\u001b[0m\u001b[0;32m      3\u001b[0m \u001b[1;32mfor\u001b[0m \u001b[0mrow\u001b[0m \u001b[1;32min\u001b[0m \u001b[0mcursor\u001b[0m\u001b[1;33m:\u001b[0m\u001b[1;33m\u001b[0m\u001b[1;33m\u001b[0m\u001b[0m\n\u001b[0;32m      4\u001b[0m    \u001b[0mprint\u001b[0m\u001b[1;33m(\u001b[0m\u001b[1;34m'row = %r'\u001b[0m \u001b[1;33m%\u001b[0m \u001b[1;33m(\u001b[0m\u001b[0mrow\u001b[0m\u001b[1;33m,\u001b[0m\u001b[1;33m)\u001b[0m\u001b[1;33m)\u001b[0m\u001b[1;33m\u001b[0m\u001b[1;33m\u001b[0m\u001b[0m\n",
      "\u001b[1;31mProgrammingError\u001b[0m: ('42S02', \"[42S02] [Microsoft][SQL Server Native Client 11.0][SQL Server]Invalid object name 'Student'. (208) (SQLExecDirectW)\")"
     ]
    }
   ],
   "source": [
    "cursor = cnxn.cursor()\n",
    "cursor.execute('SELECT * FROM Student')\n",
    "for row in cursor:\n",
    "   print('row = %r' % (row,))"
   ]
  },
  {
   "cell_type": "code",
   "execution_count": 15,
   "metadata": {},
   "outputs": [],
   "source": [
    "#check if the Reporter exists in the database\n",
    "def checkReporter(ReporterName):\n",
    "    global cursor, cnxn\n",
    "    cursor = cnxn.cursor()\n",
    "    sql_command = \"SELECT COUNT(*) FROM Reporter WHERE ReporterName IN (\\'{}\\');\".format(ReporterName)\n",
    "    cursor.execute(sql_command)\n",
    "    row = (cursor.fetchone())[0]\n",
    "    cursor.close()\n",
    "    \n",
    "    if(row>0):\n",
    "        return True\n",
    "    else:\n",
    "        return False\n",
    "    "
   ]
  },
  {
   "cell_type": "code",
   "execution_count": 16,
   "metadata": {},
   "outputs": [],
   "source": [
    "def InsertNewReporter(ReporterName):\n",
    "    global cursor, cnxn\n",
    "    cursor = cnxn.cursor()\n",
    "    sql_command = \"INSERT INTO Reporter (ReporterName) VALUES (\\'{}\\');\".format(ReporterName)\n",
    "    cursor.execute(sql_command)\n",
    "    cursor.commit()\n",
    "    cursor.close()\n",
    "    \n",
    "#InsertNewReporter('Dev')"
   ]
  },
  {
   "cell_type": "code",
   "execution_count": 17,
   "metadata": {},
   "outputs": [],
   "source": [
    "def updateReporter(currentReporterName, newReporterName):\n",
    "    global cursor, cnxn\n",
    "   \n",
    "    if (checkReporter(currentReporterName)):\n",
    "        cursor = cnxn.cursor()\n",
    "        sql_command = \"UPDATE Reporter SET ReporterName = \\'{}\\' WHERE ReporterName = \\'{}\\';\".format(newReporterName, currentReporterName)\n",
    "        cursor.execute(sql_command)\n",
    "        cursor.commit()\n",
    "        cursor.close()\n",
    "        print (\"Updated ReporterName from \\\"{}\\\" to \\\"{}\\\" \".format(currentReporterName, newReporterName))\n",
    "    else:\n",
    "        print(\"Error: 1 - Reporter does not exist\")"
   ]
  },
  {
   "cell_type": "code",
   "execution_count": 18,
   "metadata": {},
   "outputs": [],
   "source": [
    "def checkProject(ProjectName):\n",
    "    global cursor, cnxn\n",
    "    cursor = cnxn.cursor()\n",
    "    sql_command = \"SELECT COUNT(*) FROM Project WHERE ProjectName IN (\\'{}\\');\".format(ProjectName)\n",
    "    cursor.execute(sql_command)\n",
    "    row = (cursor.fetchone())[0]\n",
    "    cursor.close()\n",
    "    \n",
    "    if(row>0):\n",
    "        return True\n",
    "    else:\n",
    "        return False\n",
    "    "
   ]
  },
  {
   "cell_type": "code",
   "execution_count": 19,
   "metadata": {},
   "outputs": [],
   "source": [
    "def InsertNewProject(ProjectName):\n",
    "    global cursor, cnxn\n",
    "    try:\n",
    "        cursor = cnxn.cursor()\n",
    "        sql_command = \"INSERT INTO Project (ProjectName) VALUES (\\'{}\\');\".format(ProjectName)\n",
    "        cursor.execute(sql_command)\n",
    "        cursor.commit()\n",
    "        cursor.close()\n",
    "    except:\n",
    "        print(\"Error: InsertNewProject method\")\n",
    "    "
   ]
  },
  {
   "cell_type": "code",
   "execution_count": 20,
   "metadata": {},
   "outputs": [],
   "source": [
    "def updateProject(currentProjectName, newProjectName):\n",
    "    global cursor, cnxn\n",
    "   \n",
    "    if (checkProject(currentProjectName)):\n",
    "        cursor = cnxn.cursor()\n",
    "        sql_command = \"UPDATE Project SET ProjectName = \\'{}\\' WHERE ProjectName = \\'{}\\';\".format(newProjectName, currentProjectName)\n",
    "        cursor.execute(sql_command)\n",
    "        cursor.commit()\n",
    "        cursor.close()\n",
    "        print (\"Updated ProjectName from \\\"{}\\\" to \\\"{}\\\" \".format(currentProjectName, newProjectName))\n",
    "    else:\n",
    "        print(\"Error: 1 - Project does not exist\")"
   ]
  },
  {
   "cell_type": "code",
   "execution_count": 21,
   "metadata": {},
   "outputs": [],
   "source": [
    "def checkAssignee(AssigneeName):\n",
    "    global cursor, cnxn\n",
    "    cursor = cnxn.cursor()\n",
    "    sql_command = \"SELECT COUNT(*) FROM Assignee WHERE AssigneeName IN (\\'{}\\');\".format(AssigneeName)\n",
    "    cursor.execute(sql_command)\n",
    "    row = (cursor.fetchone())[0]\n",
    "    cursor.close()\n",
    "    \n",
    "    if(row>0):\n",
    "        return True\n",
    "    else:\n",
    "        return False\n",
    "#checkAssignee(1)"
   ]
  },
  {
   "cell_type": "code",
   "execution_count": 22,
   "metadata": {},
   "outputs": [],
   "source": [
    "def InsertNewAssignee(AssigneeName):\n",
    "    global cursor, cnxn\n",
    "    try:\n",
    "        cursor = cnxn.cursor()\n",
    "        sql_command = \"INSERT INTO Assignee (AssigneeName) VALUES (\\'{}\\');\".format(AssigneeName)\n",
    "        cursor.execute(sql_command)\n",
    "        cursor.commit()\n",
    "        cursor.close()\n",
    "    except:\n",
    "        print(\"Error: InsertNewAssignee method\")\n",
    "        \n",
    "#InsertNewAssignee(1)"
   ]
  },
  {
   "cell_type": "code",
   "execution_count": 23,
   "metadata": {},
   "outputs": [],
   "source": [
    "def updateAssignee(currentAssigneeName, newAssigneeName):\n",
    "    global cursor, cnxn\n",
    "   \n",
    "    if (checkAssignee(currentAssigneeName)):\n",
    "        cursor = cnxn.cursor()\n",
    "        sql_command = \"UPDATE Assignee SET AssigneeName = \\'{}\\' WHERE AssigneeName = \\'{}\\';\".format(newAssigneeName, currentAssigneeName)\n",
    "        cursor.execute(sql_command)\n",
    "        cursor.commit()\n",
    "        cursor.close()\n",
    "        print (\"Updated AssigneeName from \\\"{}\\\" to \\\"{}\\\" \".format(currentAssigneeName, newAssigneeName))\n",
    "    else:\n",
    "        print(\"Error: 1 - Project does not exist\")\n",
    "#updateAssignee(1,\"testing\")"
   ]
  },
  {
   "cell_type": "code",
   "execution_count": 24,
   "metadata": {},
   "outputs": [],
   "source": [
    "def InsertNewIssue(IssueID, IssueType, IssueStatus, IssuePriority, Created, ReporterName, AssigneeName, ProjectName):\n",
    "    global cursor, cnxn\n",
    "    try:\n",
    "        cursor = cnxn.cursor()  \n",
    "        sql_command = \"INSERT INTO Issue (IssueID, IssueType, IssueStatus, IssuePriority, Created, ReporterID, AssigneeID, ProjectID) VALUES (\\'{}\\', \\'{}\\',\\'{}\\', \\'{}\\', \\'{}\\', (SELECT ReporterID from Reporter where ReporterName = \\'{}\\'), (SELECT AssigneeID from Assignee where AssigneeName = \\'{}\\'), (SELECT ProjectID from Project where ProjectName = \\'{}\\'));\"\n",
    "        sql_command = sql_command.format(IssueID, IssueType, IssueStatus, IssuePriority, Created, ReporterName,AssigneeName, ProjectName)\n",
    "        cursor.execute(sql_command)\n",
    "        cursor.commit()\n",
    "        cursor.close()\n",
    "    except:\n",
    "        print(\"ERROR - INSERT NEW ISSUE\")\n",
    "#InsertNewIssue(\"BT123\", \"testing\", \"test12\",\"hi\",\"2019-01-16 09:51:56\",\"Aadam\", \"Osman\",\"debugProject\")"
   ]
  },
  {
   "cell_type": "code",
   "execution_count": 25,
   "metadata": {},
   "outputs": [],
   "source": [
    "def checkIssueExist(IssueID):\n",
    "    global cursor, cnxn\n",
    "    cursor = cnxn.cursor()\n",
    "    sql_command = \"SELECT COUNT(*) FROM Issue WHERE IssueID IN (\\'{}\\');\".format(IssueID)\n",
    "    cursor.execute(sql_command)\n",
    "    row = (cursor.fetchone())[0]\n",
    "    cursor.close()\n",
    "    \n",
    "    if(row>0):\n",
    "        return True\n",
    "    else:\n",
    "        return False\n",
    "#checkIssueExist('BT-3')"
   ]
  },
  {
   "cell_type": "code",
   "execution_count": 26,
   "metadata": {},
   "outputs": [
    {
     "data": {
      "text/plain": [
       "[('BT-2', ),\n",
       " ('BT-3', ),\n",
       " ('BT-4', ),\n",
       " ('BT-5', ),\n",
       " ('BT-7', ),\n",
       " ('FSDP-1', ),\n",
       " ('FSDP-2', ),\n",
       " ('FSDP-3', ),\n",
       " ('FSDP-4', ),\n",
       " ('FSDP-5', )]"
      ]
     },
     "execution_count": 26,
     "metadata": {},
     "output_type": "execute_result"
    }
   ],
   "source": [
    "def Issue_not_assigned():\n",
    "    global cursor, cnxn\n",
    "    cursor = cnxn.cursor()\n",
    "    sql_command =\"SELECT IssueID from Issue WHERE AssigneeID IN (SELECT AssigneeID from Assignee where AssigneeName = 'None')\"\n",
    "    cursor.execute(sql_command)\n",
    "    array = list(cursor.fetchall())\n",
    "    cursor.close()\n",
    "        \n",
    "    return(array)\n",
    "    \n",
    "    #print(array)\n",
    "Issue_not_assigned()"
   ]
  },
  {
   "cell_type": "code",
   "execution_count": 27,
   "metadata": {},
   "outputs": [
    {
     "name": "stdout",
     "output_type": "stream",
     "text": [
      "[('BT-2', ), ('BT-3', ), ('BT-4', ), ('BT-5', ), ('BT-7', ), ('FSDP-1', ), ('FSDP-2', ), ('FSDP-3', ), ('FSDP-4', ), ('FSDP-5', )]\n"
     ]
    }
   ],
   "source": [
    "cursor = cursor = cnxn.cursor()\n",
    "sql_command = \"SELECT IssueID from Issue WHERE AssigneeID = '6'\"#\"SELECT IssueID from Issue WHERE AssigneeID IN (SELECT AssigneeID from Assignee where AssigneeName = 'None')\"\n",
    "cursor.execute(sql_command)\n",
    "array = list(cursor.fetchall())\n",
    "cursor.close()\n",
    "print(array)"
   ]
  },
  {
   "cell_type": "code",
   "execution_count": 28,
   "metadata": {},
   "outputs": [],
   "source": [
    "def unresolved_list():\n",
    "    global cursor, cnxn\n",
    "    cursor = cnxn.cursor()\n",
    "    sql_command = \"SELECT IssueID from Issue WHERE Resolved is NULL;\"\n",
    "    cursor.execute(sql_command)\n",
    "    array = list(cursor.fetchall())\n",
    "    cursor.close()\n",
    "    \n",
    "    return (array)\n",
    "#unresolved_list()\n"
   ]
  },
  {
   "cell_type": "code",
   "execution_count": 29,
   "metadata": {},
   "outputs": [],
   "source": [
    "def resolve(IssueID, ResolvedDate):\n",
    "    global cursor, cnxn\n",
    "    cursor = cnxn.cursor()\n",
    "    sql_command = \"UPDATE Issue SET Resolved = \\'{}\\' WHERE IssueID = \\'{}\\';\".format(ResolvedDate, IssueID)\n",
    "    cursor.execute(sql_command)\n",
    "    cnxn.commit()\n",
    "    cursor.close()"
   ]
  },
  {
   "cell_type": "code",
   "execution_count": 30,
   "metadata": {},
   "outputs": [],
   "source": [
    "def updateAssignee_IssueTable(IssueID, AssigneeName):\n",
    "    global cursor, cnxn\n",
    "    cursor = cnxn.cursor()\n",
    "    sql_command =\"UPDATE Issue SET AssigneeID = (SELECT AssigneeID from Assignee where AssigneeName = \\'{}\\') WHERE IssueID = \\'{}\\';\".format(AssigneeName,IssueID)\n",
    "    #print(sql_command)\n",
    "    cursor.execute(sql_command)\n",
    "    cnxn.commit()\n",
    "    cursor.close()\n",
    "    \n"
   ]
  },
  {
   "cell_type": "code",
   "execution_count": 31,
   "metadata": {},
   "outputs": [
    {
     "data": {
      "text/plain": [
       "[('BT-1', 'Waiting for support'),\n",
       " ('BT-2', 'Waiting for support'),\n",
       " ('BT-3', 'Open'),\n",
       " ('BT-4', 'Open'),\n",
       " ('BT-5', 'Waiting for support'),\n",
       " ('BT-6', 'Escalated'),\n",
       " ('BT-7', 'Open'),\n",
       " ('BT-8', 'Open'),\n",
       " ('BT-9', 'Open'),\n",
       " ('FSDP-1', 'Closed'),\n",
       " ('FSDP-2', 'Closed'),\n",
       " ('FSDP-3', 'Closed'),\n",
       " ('FSDP-4', 'Waiting for support'),\n",
       " ('FSDP-5', 'Waiting for support')]"
      ]
     },
     "execution_count": 31,
     "metadata": {},
     "output_type": "execute_result"
    }
   ],
   "source": [
    "def getStatuslist():\n",
    "    global cursor, cnxn\n",
    "    cursor = cnxn.cursor()\n",
    "    sql_command = \"SELECT IssueID, IssueStatus from Issue\"\n",
    "    cursor.execute(sql_command)\n",
    "    array = cursor.fetchall()\n",
    "    cursor.close()\n",
    "    \n",
    "    return array\n",
    "getStatuslist()"
   ]
  },
  {
   "cell_type": "code",
   "execution_count": 32,
   "metadata": {},
   "outputs": [],
   "source": [
    "def updateStatus(IssueID, Status):\n",
    "    global cursor, cnxn\n",
    "    cursor = cnxn.cursor()\n",
    "    sql_command = \"UPDATE Issue SET IssueStatus = '{}' WHERE IssueID = '{}'\".format(Status,IssueID)\n",
    "    cursor.execute(sql_command)\n",
    "    cnxn.commit()\n",
    "    cursor.close()    \n",
    "    "
   ]
  },
  {
   "cell_type": "code",
   "execution_count": 33,
   "metadata": {},
   "outputs": [
    {
     "name": "stdout",
     "output_type": "stream",
     "text": [
      "UPDATE Issue SET AssigneeID = 6 WHERE IssueID ='BT-2';\n"
     ]
    }
   ],
   "source": [
    "connect()\n",
    "cursor = cnxn.cursor()\n",
    "sql_command =\"UPDATE Issue SET AssigneeID = 6 WHERE IssueID ='BT-2';\"\n",
    "print(sql_command)   \n",
    "cursor.execute(sql_command)\n",
    "cursor.close()\n",
    "cnxn.commit()\n",
    "cnxn.close()"
   ]
  },
  {
   "cell_type": "markdown",
   "metadata": {},
   "source": [
    "# Jira connection and asscoiated method"
   ]
  },
  {
   "cell_type": "code",
   "execution_count": 34,
   "metadata": {},
   "outputs": [],
   "source": [
    "from jira import JIRA\n",
    "import re\n",
    "\n",
    "#make connection\n",
    "jira = JIRA(basic_auth=('aadamo@bui.co.za', 'Aa9701285134080'), options={'server': 'https://beta-testing-aadam.atlassian.net'})"
   ]
  },
  {
   "cell_type": "code",
   "execution_count": 35,
   "metadata": {},
   "outputs": [],
   "source": [
    "def format_date(date):\n",
    "    return date.replace(\"T\",\" \").split('.')[0]"
   ]
  },
  {
   "cell_type": "code",
   "execution_count": 36,
   "metadata": {},
   "outputs": [],
   "source": [
    "def updating_assignee():\n",
    "    array =  Issue_not_assigned()\n",
    "    #print(array)\n",
    "    for key in array:\n",
    "        if (jira.issue(key[0]).fields.assignee is not None):\n",
    "            #print(key[0])\n",
    "            #print(jira.issue(key[0]).fields.assignee)\n",
    "            if(checkAssignee(jira.issue(key[0]).fields.assignee) == False):\n",
    "                print(True)\n",
    "                InsertNewAssignee(jira.issue(key[0]).fields.assignee)        \n",
    "            updateAssignee_IssueTable(key[0],jira.issue(key[0]).fields.assignee)\n",
    "                       "
   ]
  },
  {
   "cell_type": "code",
   "execution_count": 37,
   "metadata": {},
   "outputs": [],
   "source": [
    "def resolving_issues():\n",
    "    array = unresolved_list()\n",
    "    \n",
    "    for key in array:\n",
    "        if(jira.issue(key[0]).fields.resolutiondate is not None):\n",
    "            #print((jira.issue(key[0]).fields.resolutiondate))\n",
    "            resolve(key[0],format_date(jira.issue(key[0]).fields.resolutiondate))"
   ]
  },
  {
   "cell_type": "code",
   "execution_count": 38,
   "metadata": {},
   "outputs": [],
   "source": [
    "def updating_status():\n",
    "    array = getStatuslist()\n",
    "    \n",
    "    for key in array:\n",
    "        jira_status = jira.issue(key[0]).fields.status\n",
    "        if (jira_status != key[1]):\n",
    "            updateStatus(key[0],jira_status)"
   ]
  },
  {
   "cell_type": "code",
   "execution_count": null,
   "metadata": {
    "scrolled": false
   },
   "outputs": [],
   "source": [
    "import time\n",
    "while True:\n",
    "    global cursor, cnxn\n",
    "    cnxn = pyodbc.connect(\"Driver={SQL Server Native Client 11.0};\"\n",
    "                      \"Server=AADAM99A8\\SQLEXPRESS;\"\n",
    "                      \"Database=Jira_DB_V1_1;\"\n",
    "                      \"Trusted_Connection=yes;\")\n",
    "\n",
    "    cursor = cnxn.cursor()\n",
    "    \n",
    "    for issue in jira.search_issues('order by created desc', maxResults=20):\n",
    "        if(checkIssueExist(issue.key) == False):\n",
    "            print(\"Creating new issue in DB...\")\n",
    "            if (checkAssignee(issue.fields.assignee)==False):\n",
    "                print(\"Assignee does not exist, creating new Assignee...\")\n",
    "                InsertNewAssignee(issue.fields.assignee)\n",
    "            if(checkReporter(issue.fields.reporter)==False):\n",
    "                print(\"Reporter does not exist, creating new Reporter...\")\n",
    "                InsertNewReporter(issue.fields.reporter)\n",
    "            if(checkProject(issue.fields.project)==False):\n",
    "                print(\"Project does not exist, creating new Project...\")\n",
    "                InsertNewProject(issue.fields.project)\n",
    "            InsertNewIssue(issue.key,issue.fields.issuetype,issue.fields.status,issue.fields.priority,format_date(issue.fields.created),issue.fields.reporter,issue.fields.assignee,issue.fields.project)\n",
    "    \n",
    "    updating_assignee()\n",
    "    resolving_issues()\n",
    "    updating_status()\n",
    "    print(\"done\")\n",
    "    cnxn.close()\n",
    "    time.sleep(120)\n",
    "        \n",
    "        \n",
    "            \n",
    "    "
   ]
  },
  {
   "cell_type": "code",
   "execution_count": null,
   "metadata": {},
   "outputs": [],
   "source": []
  }
 ],
 "metadata": {
  "kernelspec": {
   "display_name": "Python 3",
   "language": "python",
   "name": "python3"
  },
  "language_info": {
   "codemirror_mode": {
    "name": "ipython",
    "version": 3
   },
   "file_extension": ".py",
   "mimetype": "text/x-python",
   "name": "python",
   "nbconvert_exporter": "python",
   "pygments_lexer": "ipython3",
   "version": "3.7.1"
  }
 },
 "nbformat": 4,
 "nbformat_minor": 2
}
